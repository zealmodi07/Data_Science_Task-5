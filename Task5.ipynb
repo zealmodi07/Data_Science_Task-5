{
  "nbformat": 4,
  "nbformat_minor": 0,
  "metadata": {
    "colab": {
      "provenance": []
    },
    "kernelspec": {
      "name": "python3",
      "display_name": "Python 3"
    },
    "language_info": {
      "name": "python"
    }
  },
  "cells": [
    {
      "cell_type": "code",
      "execution_count": null,
      "metadata": {
        "colab": {
          "base_uri": "https://localhost:8080/"
        },
        "id": "i9If70swTB78",
        "outputId": "44ac3dee-ecb5-4867-cb27-0a0dbd8529ec"
      },
      "outputs": [
        {
          "output_type": "stream",
          "name": "stdout",
          "text": [
            "      TV  Radio  Newspaper  Sales\n",
            "0  230.1   37.8       69.2   22.1\n",
            "1   44.5   39.3       45.1   10.4\n",
            "2   17.2   45.9       69.3    9.3\n",
            "3  151.5   41.3       58.5   18.5\n",
            "4  180.8   10.8       58.4   12.9\n"
          ]
        }
      ],
      "source": [
        "import pandas as pd\n",
        "import numpy as np\n",
        "import matplotlib.pyplot as plt\n",
        "import seaborn as sns\n",
        "from sklearn.model_selection import train_test_split\n",
        "from sklearn.linear_model import LinearRegression\n",
        "\n",
        "data=pd.read_csv(\"Advertising.csv\")\n",
        "print(data.head())"
      ]
    },
    {
      "cell_type": "code",
      "source": [
        "print(data.isnull().sum())"
      ],
      "metadata": {
        "colab": {
          "base_uri": "https://localhost:8080/"
        },
        "id": "VbSJPGBBWQw3",
        "outputId": "dfa7c74d-6a37-4db8-afae-4ee081a5cb84"
      },
      "execution_count": null,
      "outputs": [
        {
          "output_type": "stream",
          "name": "stdout",
          "text": [
            "TV           0\n",
            "Radio        0\n",
            "Newspaper    0\n",
            "Sales        0\n",
            "dtype: int64\n"
          ]
        }
      ]
    },
    {
      "cell_type": "code",
      "source": [
        "data.columns=[\"TV\",\"Radio\",\"Newspaper\",\"Sales\"]"
      ],
      "metadata": {
        "id": "josUK7zfWY5i"
      },
      "execution_count": null,
      "outputs": []
    },
    {
      "cell_type": "code",
      "source": [
        "plt.style.use(\"seaborn-whitegrid\")\n",
        "plt.figure(figsize=(12,10))\n",
        "sns.heatmap(data.corr())\n",
        "plt.show()"
      ],
      "metadata": {
        "colab": {
          "base_uri": "https://localhost:8080/",
          "height": 661
        },
        "id": "fAYhj2vvXF8C",
        "outputId": "2ee5c441-9d4f-4929-b9cc-f1a11f50ab5d"
      },
      "execution_count": null,
      "outputs": [
        {
          "output_type": "stream",
          "name": "stderr",
          "text": [
            "<ipython-input-15-9e90ef190cac>:1: MatplotlibDeprecationWarning: The seaborn styles shipped by Matplotlib are deprecated since 3.6, as they no longer correspond to the styles shipped by seaborn. However, they will remain available as 'seaborn-v0_8-<style>'. Alternatively, directly use the seaborn API instead.\n",
            "  plt.style.use(\"seaborn-whitegrid\")\n"
          ]
        },
        {
          "output_type": "display_data",
          "data": {
            "text/plain": [
              "<Figure size 1200x1000 with 2 Axes>"
            ],
            "image/png": "[encoded data removed]"
          },
          "metadata": {}
        }
      ]
    },
    {
      "cell_type": "code",
      "source": [
        "x=np.array(data.drop([\"Sales\"],1))\n",
        "y=np.array(data[\"Sales\"])\n",
        "xtrain,xtest,ytrain,ytest=train_test_split(x,y,test_size=0.2,random_state=42)\n",
        "model=LinearRegression()\n",
        "model.fit(xtrain,ytrain)\n",
        "prediction=model.predict(xtest)\n",
        "\n",
        "data=pd.DataFrame(data={\"Predicted Sales\": prediction.flatten()})\n",
        "print(data)"
      ],
      "metadata": {
        "colab": {
          "base_uri": "https://localhost:8080/"
        },
        "id": "b10w83PsZaOT",
        "outputId": "b48ceaea-a720-48eb-eae6-20b3995aab04"
      },
      "execution_count": null,
      "outputs": [
        {
          "output_type": "stream",
          "name": "stdout",
          "text": [
            "    Predicted Sales\n",
            "0         16.408024\n",
            "1         20.889882\n",
            "2         21.553843\n",
            "3         10.608503\n",
            "4         22.112373\n",
            "5         13.105592\n",
            "6         21.057192\n",
            "7          7.461010\n",
            "8         13.606346\n",
            "9         15.155070\n",
            "10         9.048320\n",
            "11         6.653283\n",
            "12        14.345545\n",
            "13         8.903493\n",
            "14         9.689590\n",
            "15        12.164944\n",
            "16         8.736284\n",
            "17        16.265073\n",
            "18        10.277596\n",
            "19        18.831091\n",
            "20        19.560367\n",
            "21        13.251035\n",
            "22        12.336207\n",
            "23        21.306951\n",
            "24         7.827403\n",
            "25         5.809574\n",
            "26        20.757532\n",
            "27        11.981381\n",
            "28         9.183496\n",
            "29         8.506699\n",
            "30        12.466468\n",
            "31        10.003377\n",
            "32        21.387671\n",
            "33        12.249664\n",
            "34        18.266615\n",
            "35        20.137663\n",
            "36        14.055140\n",
            "37        20.854112\n",
            "38        11.017444\n",
            "39         4.568996\n"
          ]
        },
        {
          "output_type": "stream",
          "name": "stderr",
          "text": [
            "<ipython-input-18-5e3f73e6ca77>:1: FutureWarning: In a future version of pandas all arguments of DataFrame.drop except for the argument 'labels' will be keyword-only.\n",
            "  x=np.array(data.drop([\"Sales\"],1))\n"
          ]
        }
      ]
    }
  ]
}